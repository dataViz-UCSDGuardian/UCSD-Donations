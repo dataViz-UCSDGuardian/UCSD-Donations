{
 "cells": [
  {
   "cell_type": "code",
   "execution_count": 15,
   "metadata": {
    "collapsed": false
   },
   "outputs": [],
   "source": [
    "import openpyxl\n"
   ]
  },
  {
   "cell_type": "code",
   "execution_count": 16,
   "metadata": {
    "collapsed": false
   },
   "outputs": [],
   "source": [
    "workbook1 = openpyxl.load_workbook('Pledges.xlsx')\n",
    "pledgesheet = workbook1.get_sheet_by_name('Pledges')\n",
    "workbook2 = openpyxl.load_workbook('Grants.xlsx')\n",
    "grantsheet = workbook2.get_sheet_by_name('Grants')\n"
   ]
  },
  {
   "cell_type": "code",
   "execution_count": 11,
   "metadata": {
    "collapsed": false
   },
   "outputs": [
    {
     "data": {
      "text/html": [
       "<iframe id=\"igraph\" scrolling=\"no\" style=\"border:none;\" seamless=\"seamless\" src=\"https://plot.ly/~mec029/14.embed\" height=\"733.622px\" width=\"1305.63px\"></iframe>"
      ],
      "text/plain": [
       "<plotly.tools.PlotlyDisplay object>"
      ]
     },
     "execution_count": 11,
     "metadata": {},
     "output_type": "execute_result"
    }
   ],
   "source": [
    "import plotly.plotly as py\n",
    "from plotly.graph_objs import *\n",
    "py.sign_in(username = 'mec029', api_key = '5lcnm610z2')\n",
    "\n",
    "# Get this figure: fig = py.get_figure(\"https://plot.ly/~mec029/14/\")\n",
    "# Get this figure's data: data = py.get_figure(\"https://plot.ly/~mec029/14/\").get_data()\n",
    "# Add data to this figure: py.plot(Data([Scatter(x=[1, 2], y=[2, 3])]), filename =\"stacked-bar\", fileopt=\"extend\"))\n",
    "# Get y data of first trace: y1 = py.get_figure(\"https://plot.ly/~mec029/14/\").get_data()[0][\"y\"]\n",
    "\n",
    "# Get figure documentation: https://plot.ly/python/get-requests/\n",
    "# Add data documentation: https://plot.ly/python/file-options/\n",
    "\n",
    "# If you're using unicode in your file, you may need to specify the encoding.\n",
    "# You can reproduce this figure in Python with the following code!\n",
    "\n",
    "# Learn about API authentication here: https://plot.ly/python/getting-started\n",
    "# Find your api_key here: https://plot.ly/settings/api\n",
    "\n",
    "trace1 = Bar(\n",
    "    x=['2013', '2014', '2015', '2016'],\n",
    "    y=['65.255', '60.711', '52.633', '38.565'],\n",
    "    marker=Marker(\n",
    "        color='rgb(31, 119, 180)'\n",
    "    ),\n",
    "    name='Capital Projects',\n",
    "    uid='851028',\n",
    "    xsrc='mec029:22:d09b94',\n",
    "    ysrc='mec029:22:2f299e'\n",
    ")\n",
    "trace2 = Bar(\n",
    "    x=['2013', '2014', '2015', '2016'],\n",
    "    y=['16.936', '16.450', '15.707', '20.248'],\n",
    "    marker=Marker(  \n",
    "        color='rgb(23, 190, 207)'\n",
    "    ),\n",
    "    name='Research',\n",
    "    uid='5862d1',\n",
    "    visible=True,\n",
    "    xsrc='mec029:22:d09b94',\n",
    "    ysrc='mec029:22:423a83'\n",
    ")\n",
    "trace3 = Bar(\n",
    "    x=['2013', '2014', '2015', '2016'],\n",
    "    y=['4.709', '6.177', '5.982', '7.128'],\n",
    "    marker=Marker(\n",
    "        color='rgb(100, 180, 55)'\n",
    "    ),\n",
    "    name='Other*',\n",
    "    uid='1e51af',\n",
    "    xsrc='mec029:22:d09b94',\n",
    "    ysrc='mec029:22:a328ad'\n",
    ")\n",
    "\n",
    "data = Data([trace1, trace2, trace3])\n",
    "layout = Layout(\n",
    "    autosize=True,\n",
    "    bargap=0.19999999999999996,\n",
    "    barmode='stack',\n",
    "    height=733.622,\n",
    "    legend=Legend(\n",
    "        x=0.7268245383005391,\n",
    "        y=0.98656175942947,\n",
    "        font=Font(\n",
    "            size=12\n",
    "        )\n",
    "    ),\n",
    "    margin=Margin(\n",
    "        r=150,\n",
    "        b=80,\n",
    "        l=150,\n",
    "        pad=0\n",
    "    ),\n",
    "    title='Pledges to UC San Diego',\n",
    "    titlefont=dict(\n",
    "        size=24\n",
    "    ),\n",
    "    width=1305.63,\n",
    "    xaxis=XAxis(\n",
    "        autorange=False,\n",
    "        dtick=1,\n",
    "        nticks=4,\n",
    "        range=[2012.5, 2016.8378907971128],\n",
    "        showticklabels=True,\n",
    "        tick0=0,\n",
    "        tickfont=dict(\n",
    "            size=27\n",
    "        ),\n",
    "    \n",
    "        tickmode='linear',\n",
    "        title='*Other includes student and departmental support',\n",
    "        titlefont=dict(\n",
    "            size=12\n",
    "        ),\n",
    "        type='linear'\n",
    "    ),\n",
    "    yaxis=YAxis(\n",
    "        autorange=True,\n",
    "        range=[0, 91.47368421052633],\n",
    "        tickfont=dict(\n",
    "            size=25\n",
    "        ),\n",
    "        title='Gross Pledges Receivable (in millions of dollars)',\n",
    "        titlefont=dict(\n",
    "            size=16\n",
    "        ),\n",
    "        type='linear'\n",
    "    )\n",
    ")\n",
    "fig = Figure(data=data, layout=layout)\n",
    "#plot_url = py.plot(fig)\n",
    "py.iplot(fig, filename='stacked-bar')\n"
   ]
  },
  {
   "cell_type": "code",
   "execution_count": 17,
   "metadata": {
    "collapsed": false
   },
   "outputs": [
    {
     "data": {
      "text/html": [
       "<iframe id=\"igraph\" scrolling=\"no\" style=\"border:none;\" seamless=\"seamless\" src=\"https://plot.ly/~mec029/14.embed\" height=\"525px\" width=\"100%\"></iframe>"
      ],
      "text/plain": [
       "<plotly.tools.PlotlyDisplay object>"
      ]
     },
     "execution_count": 17,
     "metadata": {},
     "output_type": "execute_result"
    }
   ],
   "source": [
    "years = []\n",
    "for i in range(2,3):\n",
    "    for j in range(5,1,-1):\n",
    "        years.append(grantsheet.cell(row = i, column = j).value)\n",
    "\n",
    "trace1 = Bar(\n",
    "    x = years,\n",
    "    y=[14.624, 21.596, 22.147, 33.351],\n",
    "    name='Research and Faculty Support'\n",
    ")\n",
    "\n",
    "trace2 = Bar(\n",
    "    x = years,\n",
    "    y=[14.624, 21.586, 22.147, 33.351],\n",
    "    name='Capital Projects'\n",
    ")\n",
    "\n",
    "trace3 = Bar(\n",
    "    x = years,\n",
    "    y = [16.697, 26.925, 25.888, 23.050],\n",
    "    name = 'General department support'\n",
    ")\n",
    "\n",
    "trace4 = Bar(\n",
    "    x = years,\n",
    "    y = [8.982, 7.789, 8.163, 9.235],\n",
    "    name = 'Student aid (undergraduate and graduate)'\n",
    ")\n",
    "\n",
    "trace5 = Bar(\n",
    "    x = years,\n",
    "    y = [8.070, 7.009, 6.944, 3.908],\n",
    "    name = 'Other'\n",
    ")\n",
    "\n",
    "\n",
    "data = [trace1, trace2, trace3, trace4, trace5]\n",
    "layout = Layout(\n",
    "    barmode='stack'\n",
    ")\n",
    "\n",
    "fig = Figure(data=data, layout=layout)\n",
    "py.iplot(fig, filename='stacked-bar')\n"
   ]
  },
  {
   "cell_type": "code",
   "execution_count": 24,
   "metadata": {
    "collapsed": false
   },
   "outputs": [
    {
     "data": {
      "text/html": [
       "<iframe id=\"igraph\" scrolling=\"no\" style=\"border:none;\" seamless=\"seamless\" src=\"https://plot.ly/~mec029/14.embed\" height=\"831.625px\" width=\"1480px\"></iframe>"
      ],
      "text/plain": [
       "<plotly.tools.PlotlyDisplay object>"
      ]
     },
     "execution_count": 24,
     "metadata": {},
     "output_type": "execute_result"
    }
   ],
   "source": [
    "py.sign_in(username = 'mec029', api_key = '5lcnm610z2')\n",
    "trace1 = Bar(\n",
    "    x=[2013, 2014, 2015, 2016],\n",
    "    y=[14.624, 21.596, 22.147, 33.351],\n",
    "    marker=Marker(\n",
    "        color='rgb(148, 103, 189)'\n",
    "    ),\n",
    "    name='Research and Faculty Support',\n",
    "    uid='c83c55',\n",
    "    xsrc='mec029:26:6d3902',\n",
    "    ysrc='mec029:26:21c8e7'\n",
    ")\n",
    "trace2 = Bar(\n",
    "    x=[2013, 2014, 2015, 2016],\n",
    "    y=[14.624, 21.586, 22.147, 33.351],\n",
    "    marker=Marker(\n",
    "        color='rgb(31, 119, 180)'\n",
    "    ),\n",
    "    name='Capital Projects',\n",
    "    uid='004678',\n",
    "    xsrc='mec029:26:6d3902',\n",
    "    ysrc='mec029:26:43262b'\n",
    ")\n",
    "trace3 = Bar(\n",
    "    x=[2013, 2014, 2015, 2016],\n",
    "    y=[16.697, 26.925, 25.888, 23.05],\n",
    "    marker=Marker(\n",
    "        color='rgb(23, 190, 207)'\n",
    "    ),\n",
    "    name='General department support',\n",
    "    uid='f1be21',\n",
    "    xsrc='mec029:26:6d3902',\n",
    "    ysrc='mec029:26:ffa22d'\n",
    ")\n",
    "trace4 = Bar(\n",
    "    x=[2013, 2014, 2015, 2016],\n",
    "    y=[8.982, 7.789, 8.163, 9.235],\n",
    "    marker=Marker(\n",
    "        color='rgb(100, 180, 55)'\n",
    "    ),\n",
    "    name='Student aid (undergraduate and graduate)',\n",
    "    uid='36a4cd',\n",
    "    xsrc='mec029:26:6d3902',\n",
    "    ysrc='mec029:26:a5c217'\n",
    ")\n",
    "trace5 = Bar(\n",
    "    x=[2013, 2014, 2015, 2016],\n",
    "    y=[8.07, 7.009, 6.944, 3.908],\n",
    "    marker=Marker(\n",
    "        color='rgb(188, 189, 34)'\n",
    "    ),\n",
    "    name='Other*',\n",
    "    uid='ed1041',\n",
    "    xsrc='mec029:26:6d3902',\n",
    "    ysrc='mec029:26:be98ba'\n",
    ")\n",
    "data = Data([trace1, trace2, trace3, trace4, trace5])\n",
    "layout = Layout(\n",
    "    autosize=True,\n",
    "    barmode='stack',\n",
    "    height=831.625,\n",
    "    legend=Legend(\n",
    "        x=0.009712939181798072,\n",
    "        y=1.0113840225022699,\n",
    "        font=Font(\n",
    "            size=17\n",
    "        )\n",
    "    ),\n",
    "    title='Grants to UC San Diego',\n",
    "    titlefont=dict(\n",
    "        size=26\n",
    "    ),\n",
    "    width=1480,\n",
    "    xaxis=XAxis(\n",
    "        autorange=True,\n",
    "        range=[2012.5, 2016.5],\n",
    "        tickfont=dict(\n",
    "            size=20\n",
    "        ),\n",
    "        tickmode='linear',\n",
    "        title='*Other includes cost recovery fees, interest earnings, and gift and administrative fees',\n",
    "        titlefont=dict(\n",
    "            size=14\n",
    "        ),\n",
    "        type='linear'\n",
    "    ),\n",
    "    yaxis=YAxis(\n",
    "        autorange=True,\n",
    "        range=[0, 108.31052631578947],\n",
    "        tickfont=dict(\n",
    "            size=20\n",
    "        ),\n",
    "        title='Grants (in millions of dollars)',\n",
    "        titlefont=dict(\n",
    "            size=20\n",
    "        ),\n",
    "        type='linear'\n",
    "    )\n",
    ")\n",
    "fig = Figure(data=data, layout=layout)\n",
    "#plot_url = py.plot(fig)\n",
    "py.iplot(fig, filename='stacked-bar')"
   ]
  },
  {
   "cell_type": "code",
   "execution_count": null,
   "metadata": {
    "collapsed": true
   },
   "outputs": [],
   "source": []
  }
 ],
 "metadata": {
  "kernelspec": {
   "display_name": "Python 3",
   "language": "python",
   "name": "python3"
  },
  "language_info": {
   "codemirror_mode": {
    "name": "ipython",
    "version": 3
   },
   "file_extension": ".py",
   "mimetype": "text/x-python",
   "name": "python",
   "nbconvert_exporter": "python",
   "pygments_lexer": "ipython3",
   "version": "3.5.1"
  }
 },
 "nbformat": 4,
 "nbformat_minor": 0
}
